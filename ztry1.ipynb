{
 "cells": [
  {
   "cell_type": "code",
   "execution_count": 8,
   "metadata": {},
   "outputs": [],
   "source": [
    "import pickle\n",
    "import numpy as np\n",
    "\n",
    "model_array = [\"Attention\", \"DTAAD\", \"MAD_GAN\", \"TranAD\", \"DAGMM\", \"USAD\", \"OmniAnomaly\"] "
   ]
  },
  {
   "cell_type": "code",
   "execution_count": 6,
   "metadata": {},
   "outputs": [],
   "source": [
    "feature_set = ['Active Power', 'Reactive Power', 'Governor speed actual', 'UGB X displacement', 'UGB Y displacement',\n",
    "    'LGB X displacement', 'LGB Y displacement', 'TGB X displacement',\n",
    "    'TGB Y displacement', 'Stator winding temperature 13',\n",
    "    'Stator winding temperature 14', 'Stator winding temperature 15',\n",
    "    'Surface Air Cooler Air Outlet Temperature',\n",
    "    'Surface Air Cooler Water Inlet Temperature',\n",
    "    'Surface Air Cooler Water Outlet Temperature',\n",
    "    'Stator core temperature', 'UGB metal temperature',\n",
    "    'LGB metal temperature 1', 'LGB metal temperature 2',\n",
    "    'LGB oil temperature', 'Penstock Flow', 'Turbine flow',\n",
    "    'UGB cooling water flow', 'LGB cooling water flow',\n",
    "    'Generator cooling water flow', 'Governor Penstock Pressure',\n",
    "    'Penstock pressure', 'Opening Wicked Gate', 'UGB Oil Contaminant',\n",
    "    'Gen Thrust Bearing Oil Contaminant']"
   ]
  },
  {
   "cell_type": "code",
   "execution_count": 9,
   "metadata": {},
   "outputs": [
    {
     "name": "stderr",
     "output_type": "stream",
     "text": [
      "/tmp/ipykernel_38961/1015860041.py:3: DeprecationWarning: numpy.core.numeric is deprecated and has been renamed to numpy._core.numeric. The numpy._core namespace contains private NumPy internals and its use is discouraged, as NumPy internals can change without warning in any release. In practice, most real-world usage of numpy.core is to access functionality in the public NumPy API. If that is the case, use the public NumPy API. If not, you are using NumPy internals. If you would still like to access an internal attribute, use numpy._core.numeric._frombuffer.\n",
      "  loss = pickle.load(handle)\n"
     ]
    }
   ],
   "source": [
    "for model_now in model_array:\n",
    "    with open(f'loss_fold/CustomAWGN30ES15/{model_now}.pickle', 'rb') as handle:\n",
    "        loss = pickle.load(handle)\n",
    "    with open(f'mini_loss_fold/CustomAWGN30ES15/{model_now}.pickle', 'wb') as handle:\n",
    "        pickle.dump([np.percentile(loss[:, index], 99) for index in range(len(feature_set))], handle, protocol=pickle.HIGHEST_PROTOCOL)"
   ]
  }
 ],
 "metadata": {
  "kernelspec": {
   "display_name": "Python 3",
   "language": "python",
   "name": "python3"
  },
  "language_info": {
   "codemirror_mode": {
    "name": "ipython",
    "version": 3
   },
   "file_extension": ".py",
   "mimetype": "text/x-python",
   "name": "python",
   "nbconvert_exporter": "python",
   "pygments_lexer": "ipython3",
   "version": "3.9.21"
  }
 },
 "nbformat": 4,
 "nbformat_minor": 2
}
