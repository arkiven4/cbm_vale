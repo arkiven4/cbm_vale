{
 "cells": [
  {
   "cell_type": "code",
   "execution_count": 1,
   "id": "82f5183a",
   "metadata": {},
   "outputs": [],
   "source": [
    "import numpy as np\n",
    "import pandas as pd"
   ]
  },
  {
   "cell_type": "code",
   "execution_count": null,
   "id": "1cc79486",
   "metadata": {},
   "outputs": [],
   "source": [
    "def calculate_priority(parameter_name, recap_severity, current_severity, equipment_critical_list):\n",
    "    # define occurences factor (o)\n",
    "    o = recap_severity['Level'] * recap_severity['Proportion']\n",
    "    o = np.sum(o)\n",
    "\n",
    "    # define severity factor (s)\n",
    "    s = current_severity\n",
    "\n",
    "    # define critical factor (c)\n",
    "    if parameter_name in equipment_critical_list:\n",
    "        c = 2\n",
    "    else:\n",
    "        c = 1\n",
    "\n",
    "    # another factor can be added if necessary/considered\n",
    "\n",
    "    # priority number (will ranged from 1 to 72)\n",
    "    p = o * s * c\n",
    "\n",
    "    return p"
   ]
  },
  {
   "cell_type": "code",
   "execution_count": 15,
   "id": "09e22920",
   "metadata": {},
   "outputs": [],
   "source": [
    "parameter_name = 'TGB Y Displacement'\n",
    "\n",
    "recap_severity = pd.DataFrame(\n",
    "    {\n",
    "    'Level': [1, 2, 3, 4, 5, 6],\n",
    "    'Proportion': [0.2, 0.1, 0.1, 0.5, 0.1, 0] # the sum of proportion should be 1\n",
    "    }\n",
    ")\n",
    "\n",
    "current_severity = 5\n",
    "\n",
    "equipment_critical_list = [\n",
    "    'UGB X Displacement',\n",
    "    'UGB Y Displacement',\n",
    "    'LGB X Displacement',\n",
    "    'LGB Y Displacement',\n",
    "    'TGB X Displacement',\n",
    "    'TGB Y Displacement',\n",
    "    'Governor Actual Speed',\n",
    "    'TGB Temperature',\n",
    "    'Stator Winding Temperature 13',\n",
    "    'Stator Winding Temperature 14',\n",
    "    'Stator Winding Temperature 15',\n",
    "    'Penstock Pressure',\n",
    "    'UGB Metal Air Outlet Temperature'\n",
    "    ]\n",
    "\n",
    "priority = calculate_priority(parameter_name, recap_severity, current_severity, equipment_critical_list)\n"
   ]
  },
  {
   "cell_type": "code",
   "execution_count": 16,
   "id": "20192bc4",
   "metadata": {},
   "outputs": [
    {
     "data": {
      "text/plain": [
       "32.0"
      ]
     },
     "execution_count": 16,
     "metadata": {},
     "output_type": "execute_result"
    }
   ],
   "source": [
    "priority"
   ]
  }
 ],
 "metadata": {
  "kernelspec": {
   "display_name": "Python 3",
   "language": "python",
   "name": "python3"
  },
  "language_info": {
   "codemirror_mode": {
    "name": "ipython",
    "version": 3
   },
   "file_extension": ".py",
   "mimetype": "text/x-python",
   "name": "python",
   "nbconvert_exporter": "python",
   "pygments_lexer": "ipython3",
   "version": "3.9.21"
  }
 },
 "nbformat": 4,
 "nbformat_minor": 5
}
